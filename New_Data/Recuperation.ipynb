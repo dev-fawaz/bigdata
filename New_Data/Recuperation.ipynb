{
 "cells": [
  {
   "cell_type": "code",
   "execution_count": 10,
   "id": "cddeba01-b2bb-4100-be25-022334f15558",
   "metadata": {},
   "outputs": [],
   "source": [
    "import sklearn\n",
    "import matplotlib.pyplot as plt\n",
    "import feedparser\n",
    "import numpy as np\n",
    "import joblib\n",
    "import pandas as pd\n",
    "import requests\n",
    "from bs4 import BeautifulSoup"
   ]
  },
  {
   "cell_type": "code",
   "execution_count": null,
   "id": "daaecfb9-3fb4-47e4-91be-b0ad47cde572",
   "metadata": {},
   "outputs": [],
   "source": []
  },
  {
   "cell_type": "code",
   "execution_count": 11,
   "id": "50d915f2-d5a2-4cd5-a5b4-90e5e01335bc",
   "metadata": {},
   "outputs": [],
   "source": [
    "################## Fonction retournant une liste\n",
    "def get_rss(category):\n",
    "    url3 = f\"https://www.francetvinfo.fr/{category}.rss\"\n",
    "    response3 = requests.get(url3)\n",
    "    soup = BeautifulSoup(response3.text, 'html.parser')\n",
    "\n",
    "    products3=[]\n",
    "    for card in soup.find_all('item'):\n",
    "        # Extract title, description, price, rating, and number of reviews\n",
    "        titlee = card.find('title').text.strip()\n",
    "        descriptionn = card.find('description').text.strip()\n",
    "        pubDatee = card.find('pubdate').text.strip()\n",
    "    \n",
    "    # Append the data to the products list\n",
    "        products3.append({\n",
    "            'Title': titlee,\n",
    "            'Description': descriptionn,\n",
    "            'PubDate': pubDatee,\n",
    "            'Categorie':category    \n",
    "    })\n",
    "  \n",
    "    df= pd.DataFrame(data=products3)\n",
    "    return df\n",
    " #get_rss(\"societe\")\n"
   ]
  },
  {
   "cell_type": "code",
   "execution_count": 12,
   "id": "6f214c85-9888-4cb7-82a7-9078223d2924",
   "metadata": {},
   "outputs": [
    {
     "name": "stderr",
     "output_type": "stream",
     "text": [
      "/tmp/ipykernel_1178010/1962577015.py:5: XMLParsedAsHTMLWarning: It looks like you're using an HTML parser to parse an XML document.\n",
      "\n",
      "Assuming this really is an XML document, what you're doing might work, but you should know that using an XML parser will be more reliable. To parse this document as XML, make sure you have the Python package 'lxml' installed, and pass the keyword argument `features=\"xml\"` into the BeautifulSoup constructor.\n",
      "\n",
      "If you want or need to use an HTML parser on this document, you can make this warning go away by filtering it. To do that, run this code before calling the BeautifulSoup constructor:\n",
      "\n",
      "    from bs4 import XMLParsedAsHTMLWarning\n",
      "    import warnings\n",
      "\n",
      "    warnings.filterwarnings(\"ignore\", category=XMLParsedAsHTMLWarning)\n",
      "\n",
      "  soup = BeautifulSoup(response3.text, 'html.parser')\n"
     ]
    }
   ],
   "source": [
    "df_societe = get_rss(\"societe\")\n",
    "df_sciences = get_rss(\"sciences\")\n",
    "df_economie = get_rss(\"economie\")"
   ]
  },
  {
   "cell_type": "code",
   "execution_count": 13,
   "id": "1a165c80-dfae-4f50-90a3-1d2d7b0e884c",
   "metadata": {},
   "outputs": [],
   "source": [
    "df_societe.to_csv(\"data_societe.csv\")\n",
    "df_sciences.to_csv(\"data_sciences.csv\")\n",
    "df_economie.to_csv(\"data_economie.csv\")"
   ]
  },
  {
   "cell_type": "code",
   "execution_count": null,
   "id": "c4ea198b-82a7-4785-8cf2-6710d8eafc6e",
   "metadata": {},
   "outputs": [],
   "source": []
  }
 ],
 "metadata": {
  "kernelspec": {
   "display_name": ".venv",
   "language": "python",
   "name": "python3"
  },
  "language_info": {
   "codemirror_mode": {
    "name": "ipython",
    "version": 3
   },
   "file_extension": ".py",
   "mimetype": "text/x-python",
   "name": "python",
   "nbconvert_exporter": "python",
   "pygments_lexer": "ipython3",
   "version": "3.12.3"
  }
 },
 "nbformat": 4,
 "nbformat_minor": 5
}
